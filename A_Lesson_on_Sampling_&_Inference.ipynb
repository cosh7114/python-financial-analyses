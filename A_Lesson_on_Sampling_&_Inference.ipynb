{
  "cells": [
    {
      "cell_type": "code",
      "source": [
        "pip install --upgrade pandas"
      ],
      "metadata": {
        "colab": {
          "base_uri": "https://localhost:8080/"
        },
        "id": "9lQKMA9oqUTY",
        "outputId": "2e66954d-9078-4865-b15a-414a3807408c"
      },
      "execution_count": null,
      "outputs": [
        {
          "output_type": "stream",
          "name": "stdout",
          "text": [
            "Looking in indexes: https://pypi.org/simple, https://us-python.pkg.dev/colab-wheels/public/simple/\n",
            "Requirement already satisfied: pandas in /usr/local/lib/python3.8/dist-packages (1.3.5)\n",
            "Collecting pandas\n",
            "  Downloading pandas-1.5.3-cp38-cp38-manylinux_2_17_x86_64.manylinux2014_x86_64.whl (12.2 MB)\n",
            "\u001b[2K     \u001b[90m━━━━━━━━━━━━━━━━━━━━━━━━━━━━━━━━━━━━━━━━\u001b[0m \u001b[32m12.2/12.2 MB\u001b[0m \u001b[31m52.9 MB/s\u001b[0m eta \u001b[36m0:00:00\u001b[0m\n",
            "\u001b[?25hRequirement already satisfied: python-dateutil>=2.8.1 in /usr/local/lib/python3.8/dist-packages (from pandas) (2.8.2)\n",
            "Requirement already satisfied: numpy>=1.20.3 in /usr/local/lib/python3.8/dist-packages (from pandas) (1.21.6)\n",
            "Requirement already satisfied: pytz>=2020.1 in /usr/local/lib/python3.8/dist-packages (from pandas) (2022.7.1)\n",
            "Requirement already satisfied: six>=1.5 in /usr/local/lib/python3.8/dist-packages (from python-dateutil>=2.8.1->pandas) (1.15.0)\n",
            "Installing collected packages: pandas\n",
            "  Attempting uninstall: pandas\n",
            "    Found existing installation: pandas 1.3.5\n",
            "    Uninstalling pandas-1.3.5:\n",
            "      Successfully uninstalled pandas-1.3.5\n",
            "Successfully installed pandas-1.5.3\n"
          ]
        }
      ]
    },
    {
      "cell_type": "code",
      "source": [
        "pip install yfinance"
      ],
      "metadata": {
        "colab": {
          "base_uri": "https://localhost:8080/"
        },
        "id": "542Afe0KqOxB",
        "outputId": "e65b67a4-6677-4ab4-88bb-b47cce3f274f"
      },
      "execution_count": null,
      "outputs": [
        {
          "output_type": "stream",
          "name": "stdout",
          "text": [
            "Looking in indexes: https://pypi.org/simple, https://us-python.pkg.dev/colab-wheels/public/simple/\n",
            "Collecting yfinance\n",
            "  Downloading yfinance-0.2.11-py2.py3-none-any.whl (59 kB)\n",
            "\u001b[2K     \u001b[90m━━━━━━━━━━━━━━━━━━━━━━━━━━━━━━━━━━━━━━━━\u001b[0m \u001b[32m59.2/59.2 KB\u001b[0m \u001b[31m2.8 MB/s\u001b[0m eta \u001b[36m0:00:00\u001b[0m\n",
            "\u001b[?25hCollecting beautifulsoup4>=4.11.1\n",
            "  Downloading beautifulsoup4-4.11.2-py3-none-any.whl (129 kB)\n",
            "\u001b[2K     \u001b[90m━━━━━━━━━━━━━━━━━━━━━━━━━━━━━━━━━━━━━━━\u001b[0m \u001b[32m129.4/129.4 KB\u001b[0m \u001b[31m6.8 MB/s\u001b[0m eta \u001b[36m0:00:00\u001b[0m\n",
            "\u001b[?25hRequirement already satisfied: multitasking>=0.0.7 in /usr/local/lib/python3.8/dist-packages (from yfinance) (0.0.11)\n",
            "Requirement already satisfied: appdirs>=1.4.4 in /usr/local/lib/python3.8/dist-packages (from yfinance) (1.4.4)\n",
            "Requirement already satisfied: pandas>=1.3.0 in /usr/local/lib/python3.8/dist-packages (from yfinance) (1.5.3)\n",
            "Collecting frozendict>=2.3.4\n",
            "  Downloading frozendict-2.3.4-cp38-cp38-manylinux_2_17_x86_64.manylinux2014_x86_64.whl (110 kB)\n",
            "\u001b[2K     \u001b[90m━━━━━━━━━━━━━━━━━━━━━━━━━━━━━━━━━━━━━━\u001b[0m \u001b[32m111.0/111.0 KB\u001b[0m \u001b[31m10.8 MB/s\u001b[0m eta \u001b[36m0:00:00\u001b[0m\n",
            "\u001b[?25hRequirement already satisfied: pytz>=2022.5 in /usr/local/lib/python3.8/dist-packages (from yfinance) (2022.7.1)\n",
            "Collecting cryptography>=3.3.2\n",
            "  Downloading cryptography-39.0.1-cp36-abi3-manylinux_2_28_x86_64.whl (4.2 MB)\n",
            "\u001b[2K     \u001b[90m━━━━━━━━━━━━━━━━━━━━━━━━━━━━━━━━━━━━━━━━\u001b[0m \u001b[32m4.2/4.2 MB\u001b[0m \u001b[31m42.4 MB/s\u001b[0m eta \u001b[36m0:00:00\u001b[0m\n",
            "\u001b[?25hRequirement already satisfied: numpy>=1.16.5 in /usr/local/lib/python3.8/dist-packages (from yfinance) (1.21.6)\n",
            "Collecting html5lib>=1.1\n",
            "  Downloading html5lib-1.1-py2.py3-none-any.whl (112 kB)\n",
            "\u001b[2K     \u001b[90m━━━━━━━━━━━━━━━━━━━━━━━━━━━━━━━━━━━━━━\u001b[0m \u001b[32m112.2/112.2 KB\u001b[0m \u001b[31m11.8 MB/s\u001b[0m eta \u001b[36m0:00:00\u001b[0m\n",
            "\u001b[?25hCollecting requests>=2.26\n",
            "  Downloading requests-2.28.2-py3-none-any.whl (62 kB)\n",
            "\u001b[2K     \u001b[90m━━━━━━━━━━━━━━━━━━━━━━━━━━━━━━━━━━━━━━━━\u001b[0m \u001b[32m62.8/62.8 KB\u001b[0m \u001b[31m3.8 MB/s\u001b[0m eta \u001b[36m0:00:00\u001b[0m\n",
            "\u001b[?25hRequirement already satisfied: lxml>=4.9.1 in /usr/local/lib/python3.8/dist-packages (from yfinance) (4.9.2)\n",
            "Collecting soupsieve>1.2\n",
            "  Downloading soupsieve-2.4-py3-none-any.whl (37 kB)\n",
            "Requirement already satisfied: cffi>=1.12 in /usr/local/lib/python3.8/dist-packages (from cryptography>=3.3.2->yfinance) (1.15.1)\n",
            "Requirement already satisfied: webencodings in /usr/local/lib/python3.8/dist-packages (from html5lib>=1.1->yfinance) (0.5.1)\n",
            "Requirement already satisfied: six>=1.9 in /usr/local/lib/python3.8/dist-packages (from html5lib>=1.1->yfinance) (1.15.0)\n",
            "Requirement already satisfied: python-dateutil>=2.8.1 in /usr/local/lib/python3.8/dist-packages (from pandas>=1.3.0->yfinance) (2.8.2)\n",
            "Requirement already satisfied: certifi>=2017.4.17 in /usr/local/lib/python3.8/dist-packages (from requests>=2.26->yfinance) (2022.12.7)\n",
            "Requirement already satisfied: urllib3<1.27,>=1.21.1 in /usr/local/lib/python3.8/dist-packages (from requests>=2.26->yfinance) (1.24.3)\n",
            "Requirement already satisfied: charset-normalizer<4,>=2 in /usr/local/lib/python3.8/dist-packages (from requests>=2.26->yfinance) (2.1.1)\n",
            "Requirement already satisfied: idna<4,>=2.5 in /usr/local/lib/python3.8/dist-packages (from requests>=2.26->yfinance) (2.10)\n",
            "Requirement already satisfied: pycparser in /usr/local/lib/python3.8/dist-packages (from cffi>=1.12->cryptography>=3.3.2->yfinance) (2.21)\n",
            "Installing collected packages: soupsieve, requests, html5lib, frozendict, cryptography, beautifulsoup4, yfinance\n",
            "  Attempting uninstall: requests\n",
            "    Found existing installation: requests 2.25.1\n",
            "    Uninstalling requests-2.25.1:\n",
            "      Successfully uninstalled requests-2.25.1\n",
            "  Attempting uninstall: html5lib\n",
            "    Found existing installation: html5lib 1.0.1\n",
            "    Uninstalling html5lib-1.0.1:\n",
            "      Successfully uninstalled html5lib-1.0.1\n",
            "  Attempting uninstall: beautifulsoup4\n",
            "    Found existing installation: beautifulsoup4 4.6.3\n",
            "    Uninstalling beautifulsoup4-4.6.3:\n",
            "      Successfully uninstalled beautifulsoup4-4.6.3\n",
            "Successfully installed beautifulsoup4-4.11.2 cryptography-39.0.1 frozendict-2.3.4 html5lib-1.1 requests-2.28.2 soupsieve-2.4 yfinance-0.2.11\n"
          ]
        }
      ]
    },
    {
      "cell_type": "code",
      "execution_count": null,
      "metadata": {
        "id": "_JESqoERdt-J"
      },
      "outputs": [],
      "source": [
        "# import libraries\n",
        "import pandas as pd\n",
        "import matplotlib.pyplot as plt\n",
        "%matplotlib inline\n",
        "import numpy as np\n",
        "from scipy.stats import norm\n",
        "import yfinance as yf"
      ]
    },
    {
      "cell_type": "markdown",
      "metadata": {
        "id": "ajQfLIi6dt-V"
      },
      "source": [
        "# **Population and Sample**"
      ]
    },
    {
      "cell_type": "code",
      "execution_count": null,
      "metadata": {
        "id": "HJ2SyJMSdt-b"
      },
      "outputs": [],
      "source": [
        "# Population and Sample\n",
        "data = pd.DataFrame()\n",
        "data['Population'] = [47, 48, 85, 20, 19, 13, 72, 16, 50, 60]"
      ]
    },
    {
      "cell_type": "code",
      "execution_count": null,
      "metadata": {
        "id": "fb7ugK9xdt-d",
        "outputId": "d1dc0b58-6ebe-4b04-e651-e6a44fc3f3a6"
      },
      "outputs": [
        {
          "data": {
            "text/plain": [
              "3    20\n",
              "9    60\n",
              "7    16\n",
              "4    19\n",
              "6    72\n",
              "Name: Population, dtype: int64"
            ]
          },
          "execution_count": 3,
          "metadata": {},
          "output_type": "execute_result"
        }
      ],
      "source": [
        "a_sample_without_replacement = data['Population'].sample(5, replace=False)\n",
        "a_sample_without_replacement"
      ]
    },
    {
      "cell_type": "code",
      "execution_count": null,
      "metadata": {
        "id": "HKIyDD_ldt-i",
        "outputId": "556e631c-3294-4eba-a14c-046a49d27317"
      },
      "outputs": [
        {
          "data": {
            "text/plain": [
              "5    13\n",
              "1    48\n",
              "5    13\n",
              "2    85\n",
              "4    19\n",
              "Name: Population, dtype: int64"
            ]
          },
          "execution_count": 4,
          "metadata": {},
          "output_type": "execute_result"
        }
      ],
      "source": [
        "a_sample_with_replacement = data['Population'].sample(5, replace=True)\n",
        "a_sample_with_replacement"
      ]
    },
    {
      "cell_type": "code",
      "execution_count": null,
      "metadata": {
        "id": "GnLyh6WHdt-k",
        "outputId": "92ef0d41-847f-44a8-faa9-76c4d371970a"
      },
      "outputs": [
        {
          "name": "stdout",
          "output_type": "stream",
          "text": [
            "Population mean is  43.0\n",
            "Population variance is  571.8\n",
            "Population standard deviation is  23.912339910598458\n",
            "Population size is  10\n"
          ]
        }
      ],
      "source": [
        "# Parameters of Population\n",
        "print('Population mean is ', data['Population'].mean())\n",
        "print('Population variance is ', data['Population'].var(ddof=0))\n",
        "print('Population standard deviation is ', data['Population'].std(ddof=0))\n",
        "print('Population size is ', data['Population'].shape[0])"
      ]
    },
    {
      "cell_type": "code",
      "execution_count": null,
      "metadata": {
        "id": "4F1y_JBQdt-m",
        "outputId": "6a0beebb-8631-4295-819a-fc47c92d2449"
      },
      "outputs": [
        {
          "data": {
            "text/plain": [
              "4    19\n",
              "8    50\n",
              "3    20\n",
              "1    48\n",
              "8    50\n",
              "1    48\n",
              "6    72\n",
              "6    72\n",
              "8    50\n",
              "6    72\n",
              "Name: Population, dtype: int64"
            ]
          },
          "execution_count": 6,
          "metadata": {},
          "output_type": "execute_result"
        }
      ],
      "source": [
        "a_sample = data['Population'].sample(10, replace=True)\n",
        "a_sample"
      ]
    },
    {
      "cell_type": "code",
      "execution_count": null,
      "metadata": {
        "id": "9-Vndskcdt-n",
        "outputId": "e50a049e-e39b-43ac-b604-3366a71aea78"
      },
      "outputs": [
        {
          "name": "stdout",
          "output_type": "stream",
          "text": [
            "Sample mean is  50.1\n",
            "Sample variance is  368.98888888888894\n",
            "Sample standard deviation is  19.209083499451214\n",
            "Sample size is  10\n"
          ]
        }
      ],
      "source": [
        "# sample statistics\n",
        "print('Sample mean is ', a_sample.mean())\n",
        "print('Sample variance is ', a_sample.var(ddof=1))\n",
        "print('Sample standard deviation is ', a_sample.std(ddof=1))\n",
        "print('Sample size is ', a_sample.shape[0])"
      ]
    },
    {
      "cell_type": "code",
      "execution_count": null,
      "metadata": {
        "id": "gVfqtwz2dt-p"
      },
      "outputs": [],
      "source": [
        "# example of sample\n",
        "sample_length = 500\n",
        "sample_variance_collection0 = [data['Population'].sample(50, replace=True).var(ddof=0) for i in range(sample_length)]\n",
        "sample_variance_collection1 = [data['Population'].sample(50, replace=True).var(ddof=1) for i in range(sample_length)]"
      ]
    },
    {
      "cell_type": "code",
      "execution_count": null,
      "metadata": {
        "id": "JCZZkXYFdt-r",
        "outputId": "a2ad4c87-831b-4c41-bede-4aa172066c19"
      },
      "outputs": [
        {
          "name": "stdout",
          "output_type": "stream",
          "text": [
            "Population variance is  571.8\n",
            "Average of sample variance with n is  554.5910160000002\n",
            "Average of sample variance with n-1 is  572.7317926530613\n"
          ]
        }
      ],
      "source": [
        "print('Population variance is ', data['Population'].var(ddof=0))\n",
        "print('Average of sample variance with n is ', pd.DataFrame(sample_variance_collection0)[0].mean())\n",
        "print('Average of sample variance with n-1 is ', pd.DataFrame(sample_variance_collection1)[0].mean())"
      ]
    },
    {
      "cell_type": "markdown",
      "metadata": {
        "id": "z1cyOaN5dt-s"
      },
      "source": [
        "# **Variation of Sample**"
      ]
    },
    {
      "cell_type": "code",
      "execution_count": null,
      "metadata": {
        "id": "StXa1ZDjdt-t",
        "outputId": "f99bf819-0b32-4975-bf6e-30c580333b90"
      },
      "outputs": [
        {
          "name": "stdout",
          "output_type": "stream",
          "text": [
            "Sample mean is  9.151518103073842\n",
            "Sample standard deviation is  6.180558896374806\n"
          ]
        }
      ],
      "source": [
        "# Sampling from normal distribution\n",
        "Fstsample = pd.DataFrame(np.random.normal(10, 5, size=30))\n",
        "print('Sample mean is ', Fstsample[0].mean())\n",
        "print('Sample standard deviation is ', Fstsample[0].std(ddof=1))"
      ]
    },
    {
      "cell_type": "code",
      "execution_count": null,
      "metadata": {
        "id": "p8DzE3mQdt-v"
      },
      "outputs": [],
      "source": [
        "# Empirical distribution of sample mean and variance\n",
        "meanlist = []\n",
        "varlist = []\n",
        "for i in range(1000):\n",
        "    sample = pd.DataFrame(np.random.normal(10,5,size=30))\n",
        "    meanlist.append(sample[0].mean())\n",
        "    varlist.append(sample[0].var(ddof=1))"
      ]
    },
    {
      "cell_type": "code",
      "execution_count": null,
      "metadata": {
        "id": "INA9QsZadt-x"
      },
      "outputs": [],
      "source": [
        "collection = pd.DataFrame()\n",
        "collection['meanlist'] = meanlist\n",
        "collection['varlist'] = varlist"
      ]
    },
    {
      "cell_type": "code",
      "execution_count": null,
      "metadata": {
        "id": "K_FLMIFDdt-0",
        "outputId": "fd2eceef-9387-44d8-9271-11d147dfbc44"
      },
      "outputs": [
        {
          "data": {
            "text/plain": [
              "<AxesSubplot:>"
            ]
          },
          "execution_count": 13,
          "metadata": {},
          "output_type": "execute_result"
        },
        {
          "data": {
            "image/png": "[encoded data removed]",
            "text/plain": [
              "<Figure size 432x288 with 1 Axes>"
            ]
          },
          "metadata": {
            "needs_background": "light"
          },
          "output_type": "display_data"
        }
      ],
      "source": [
        "collection['meanlist'].hist(bins=500, density=True, stacked=True)"
      ]
    },
    {
      "cell_type": "code",
      "execution_count": null,
      "metadata": {
        "id": "tqqNAX_-dt-3",
        "outputId": "2be895c7-5619-48a9-f6b9-72789ff2fe4c"
      },
      "outputs": [
        {
          "data": {
            "text/plain": [
              "<AxesSubplot:>"
            ]
          },
          "execution_count": 14,
          "metadata": {},
          "output_type": "execute_result"
        },
        {
          "data": {
            "image/png": "[encoded data removed]",
            "text/plain": [
              "<Figure size 432x288 with 1 Axes>"
            ]
          },
          "metadata": {
            "needs_background": "light"
          },
          "output_type": "display_data"
        }
      ],
      "source": [
        "collection['varlist'].hist(bins=500, density=True, stacked=True)"
      ]
    },
    {
      "cell_type": "code",
      "execution_count": null,
      "metadata": {
        "id": "kLUtwxvldt-5",
        "outputId": "2eaef2f2-dd32-4e04-cc5e-c83e0d488658"
      },
      "outputs": [
        {
          "data": {
            "text/plain": [
              "<AxesSubplot:>"
            ]
          },
          "execution_count": 15,
          "metadata": {},
          "output_type": "execute_result"
        },
        {
          "data": {
            "image/png": "[encoded data removed]",
            "text/plain": [
              "<Figure size 432x288 with 1 Axes>"
            ]
          },
          "metadata": {
            "needs_background": "light"
          },
          "output_type": "display_data"
        }
      ],
      "source": [
        "# Demo in python - Populatio vs Empirical\n",
        "pop=pd.DataFrame(np.random.normal(10,5,size=100000)) # approximate to population\n",
        "\n",
        "pop[0].hist(bins=500,color='cyan',density=True,stacked=True)\n",
        "collection['meanlist'].hist(bins=500,density=True,stacked=True,color='red')"
      ]
    },
    {
      "cell_type": "code",
      "execution_count": null,
      "metadata": {
        "id": "pELyLIYKdt-6"
      },
      "outputs": [],
      "source": [
        "# Sampling from general distribution\n",
        "samplemeanlist = []\n",
        "apop = pd.DataFrame([1,0,1,0,1])\n",
        "for t in range(100000):\n",
        "    sample = apop[0].sample(10, replace=True) # small sample size\n",
        "    samplemeanlist.append(sample.mean())\n",
        "\n",
        "acollec = pd.DataFrame()\n",
        "acollec['meanlist'] = samplemeanlist"
      ]
    },
    {
      "cell_type": "code",
      "execution_count": null,
      "metadata": {
        "id": "lMUkj0R_dt-7",
        "outputId": "ce122bf6-84cc-4b9d-b9d9-0f0edbc4aea1"
      },
      "outputs": [
        {
          "data": {
            "text/plain": [
              "<AxesSubplot:>"
            ]
          },
          "execution_count": 17,
          "metadata": {},
          "output_type": "execute_result"
        },
        {
          "data": {
            "image/png": "[encoded data removed]",
            "text/plain": [
              "<Figure size 432x288 with 1 Axes>"
            ]
          },
          "metadata": {
            "needs_background": "light"
          },
          "output_type": "display_data"
        }
      ],
      "source": [
        "acollec['meanlist'].hist(bins=500, color='red', density=True)"
      ]
    },
    {
      "cell_type": "code",
      "execution_count": null,
      "metadata": {
        "id": "dRDbXcGNdt-8"
      },
      "outputs": [],
      "source": [
        "samplemeanlist = []\n",
        "for t in range(100000):\n",
        "    sample = apop[0].sample(2000, replace=True) # large sample size\n",
        "    samplemeanlist.append(sample.mean())\n",
        "\n",
        "acollec = pd.DataFrame()\n",
        "acollec['meanlist'] = samplemeanlist"
      ]
    },
    {
      "cell_type": "code",
      "execution_count": null,
      "metadata": {
        "id": "WZzynwgtdt-9",
        "outputId": "d4282e93-afe7-401c-ca62-0fb6f11190c2"
      },
      "outputs": [
        {
          "data": {
            "text/plain": [
              "<AxesSubplot:>"
            ]
          },
          "execution_count": 19,
          "metadata": {},
          "output_type": "execute_result"
        },
        {
          "data": {
            "image/png": "[encoded data removed]",
            "text/plain": [
              "<Figure size 432x288 with 1 Axes>"
            ]
          },
          "metadata": {
            "needs_background": "light"
          },
          "output_type": "display_data"
        }
      ],
      "source": [
        "acollec['meanlist'].hist(bins=500, color='red', density=True, stacked=True)"
      ]
    },
    {
      "cell_type": "markdown",
      "metadata": {
        "id": "3J5coxbTdt--"
      },
      "source": [
        "# **Confidence Interval**"
      ]
    },
    {
      "cell_type": "code",
      "execution_count": null,
      "metadata": {
        "colab": {
          "base_uri": "https://localhost:8080/"
        },
        "id": "cCGMHw2Tdt--",
        "outputId": "5823f8e6-fe3a-4ab2-ae26-272a155e069c"
      },
      "outputs": [
        {
          "output_type": "stream",
          "name": "stdout",
          "text": [
            "\r[*********************100%***********************]  1 of 1 completed\n"
          ]
        }
      ],
      "source": [
        "#Sample log return of Apple\n",
        "aapl = pd.DataFrame(yf.download('AAPL', start='2007-01-01', end='2023-01-01'))\n",
        "aapl['logReturn'] = np.log(aapl['Close'].shift(-1)) - np.log(aapl['Close'])\n",
        "\n",
        "# values for calculating the 80% confidence interval\n",
        "z_left = norm.ppf(0.1)\n",
        "z_right = norm.ppf(0.9)\n",
        "sample_mean = aapl['logReturn'].mean()\n",
        "sample_std = aapl['logReturn'].std(ddof=1)/(aapl.shape[0])**0.5"
      ]
    },
    {
      "cell_type": "code",
      "execution_count": null,
      "metadata": {
        "colab": {
          "base_uri": "https://localhost:8080/"
        },
        "id": "wIlaZpQbdt-_",
        "outputId": "3211ba6a-1040-45ab-b942-f8f39e991cc4"
      },
      "outputs": [
        {
          "output_type": "stream",
          "name": "stdout",
          "text": [
            "Sample Mean is  0.0009363713297335611\n",
            "*******************************************************\n",
            "80% confidence interval is \n",
            "0.000524028607058086 0.001348714052409036\n"
          ]
        }
      ],
      "source": [
        "interval_left = sample_mean + z_left*sample_std\n",
        "interval_right = sample_mean + z_right*sample_std\n",
        "print(\"Sample Mean is \", sample_mean)\n",
        "print(\"*******************************************************\")\n",
        "print(\"80% confidence interval is \")\n",
        "print(interval_left, interval_right)"
      ]
    },
    {
      "cell_type": "markdown",
      "metadata": {
        "id": "xrL9d3C0dt_A"
      },
      "source": [
        "# **Hypothesis Testing**"
      ]
    },
    {
      "cell_type": "code",
      "execution_count": null,
      "metadata": {
        "colab": {
          "base_uri": "https://localhost:8080/",
          "height": 334
        },
        "id": "GOEwHXIOdt_B",
        "outputId": "23799277-9c26-4e7f-dd34-a14b1da5f41b"
      },
      "outputs": [
        {
          "output_type": "execute_result",
          "data": {
            "text/plain": [
              "[<matplotlib.lines.Line2D at 0x7fd50fb0caf0>]"
            ]
          },
          "metadata": {},
          "execution_count": 16
        },
        {
          "output_type": "display_data",
          "data": {
            "text/plain": [
              "<Figure size 432x288 with 1 Axes>"
            ],
            "image/png": "[encoded data removed]"
          },
          "metadata": {
            "needs_background": "light"
          }
        }
      ],
      "source": [
        "plt.title(\"Close Price of Apple from 2007 to 2023\", size=30)\n",
        "plt.xlabel('Time',size=20)\n",
        "plt.ylabel('US $', size=20)\n",
        "plt.plot(aapl.loc[:,'Close'])"
      ]
    },
    {
      "cell_type": "code",
      "execution_count": null,
      "metadata": {
        "colab": {
          "base_uri": "https://localhost:8080/",
          "height": 334
        },
        "id": "aASkjcwidt_C",
        "outputId": "501b7589-7f3f-4dd9-e314-e207aef2eed4"
      },
      "outputs": [
        {
          "output_type": "execute_result",
          "data": {
            "text/plain": [
              "<matplotlib.lines.Line2D at 0x7fd50d2a4c10>"
            ]
          },
          "metadata": {},
          "execution_count": 17
        },
        {
          "output_type": "display_data",
          "data": {
            "text/plain": [
              "<Figure size 432x288 with 1 Axes>"
            ],
            "image/png": "[encoded data removed]"
          },
          "metadata": {
            "needs_background": "light"
          }
        }
      ],
      "source": [
        "plt.title(\"Daily Return of Apple from 2007 to 2023\", size=30)\n",
        "plt.xlabel('Time',size=20)\n",
        "plt.ylabel('US $', size=20)\n",
        "plt.xlim(aapl.index[0], aapl.index[-1])\n",
        "plt.plot(aapl.loc[:,'logReturn'])\n",
        "plt.axhline(0, color='red')"
      ]
    },
    {
      "cell_type": "code",
      "execution_count": null,
      "metadata": {
        "colab": {
          "base_uri": "https://localhost:8080/",
          "height": 311
        },
        "id": "L38gB9Njdt_D",
        "outputId": "c1cf5c90-4979-4c01-e734-9225cc3239b3"
      },
      "outputs": [
        {
          "output_type": "execute_result",
          "data": {
            "text/plain": [
              "<matplotlib.axes._subplots.AxesSubplot at 0x7fd50d019ac0>"
            ]
          },
          "metadata": {},
          "execution_count": 19
        },
        {
          "output_type": "display_data",
          "data": {
            "text/plain": [
              "<Figure size 432x288 with 1 Axes>"
            ],
            "image/png": "[encoded data removed]"
          },
          "metadata": {
            "needs_background": "light"
          }
        }
      ],
      "source": [
        "plt.title(\"Histogram of Daily Return of Apple from 2007 to 2023\", size=30)\n",
        "aapl.loc[:, 'logReturn'].dropna().hist(bins=100)"
      ]
    },
    {
      "cell_type": "markdown",
      "metadata": {
        "id": "k1HS04rKdt_F"
      },
      "source": [
        "#### Setting hypthesis:\n",
        "Null H0: z-hat = 0<br>\n",
        "Alt H1: z-hat /= 0"
      ]
    },
    {
      "cell_type": "code",
      "execution_count": null,
      "metadata": {
        "colab": {
          "base_uri": "https://localhost:8080/"
        },
        "id": "oeW1GgJHdt_H",
        "outputId": "b76b992c-af39-4c89-8ed8-9c28f8307559"
      },
      "outputs": [
        {
          "output_type": "stream",
          "name": "stdout",
          "text": [
            "2.9102202550463425\n"
          ]
        }
      ],
      "source": [
        "# Standardization\n",
        "xbar = aapl['logReturn'].mean()\n",
        "s = aapl['logReturn'].std(ddof=1)\n",
        "n = aapl['logReturn'].shape[0]\n",
        "zhat = (xbar-0)/(s/(n**0.5))\n",
        "print(zhat)"
      ]
    },
    {
      "cell_type": "code",
      "execution_count": null,
      "metadata": {
        "colab": {
          "base_uri": "https://localhost:8080/"
        },
        "id": "iL4Mm_gBdt_J",
        "outputId": "229d6580-46c0-4710-85dc-7b7396890070"
      },
      "outputs": [
        {
          "output_type": "stream",
          "name": "stdout",
          "text": [
            "-1.9599639845400545 1.9599639845400545\n",
            "At the significance level of 0.05\n",
            "Shall we reject?: True\n"
          ]
        }
      ],
      "source": [
        "# Set Decision Criteria\n",
        "alpha = 0.05\n",
        "zleft = norm.ppf(alpha/2, 0, 1)\n",
        "zright = -zleft\n",
        "print(zleft, zright)\n",
        "print('At the significance level of', alpha)\n",
        "print('Shall we reject?:', zhat>zright or zhat<zleft)"
      ]
    },
    {
      "cell_type": "markdown",
      "metadata": {
        "id": "QHgiqMPAdt_K"
      },
      "source": [
        "#### Hypothesis for One Tail Test\n",
        "Null H0: z-hat <= 0<br>\n",
        "Alt H1: z-hat > 0"
      ]
    },
    {
      "cell_type": "code",
      "execution_count": null,
      "metadata": {
        "colab": {
          "base_uri": "https://localhost:8080/"
        },
        "id": "q01ERZsfdt_K",
        "outputId": "6ed1568a-b136-43c0-8880-d34d6faedb4c"
      },
      "outputs": [
        {
          "output_type": "stream",
          "name": "stdout",
          "text": [
            "1.6448536269514722\n",
            "At the significance level of 0.05\n",
            "Shall we reject?: True\n"
          ]
        }
      ],
      "source": [
        "# Set Decision Criteria\n",
        "alpha = 0.05\n",
        "zright = norm.ppf(1-alpha, 0, 1)\n",
        "print(zright)\n",
        "print('At the significance level of', alpha)\n",
        "print('Shall we reject?:', zhat>zright)"
      ]
    },
    {
      "cell_type": "markdown",
      "metadata": {
        "id": "6g59Z-l_dt_L"
      },
      "source": [
        "#### p-value of Two Tailed Test\n",
        "Reject H0 if p-value < a"
      ]
    },
    {
      "cell_type": "code",
      "execution_count": null,
      "metadata": {
        "colab": {
          "base_uri": "https://localhost:8080/"
        },
        "id": "7Ajouo7Hdt_M",
        "outputId": "1bf1b39f-ed67-4171-8bfa-1c19311899c6"
      },
      "outputs": [
        {
          "output_type": "stream",
          "name": "stdout",
          "text": [
            "p-value is 0.0036117413048062375\n",
            "At the significance level of 0.05\n",
            "Shall we reject?: True\n"
          ]
        }
      ],
      "source": [
        "# Calculate p-value for Two Tailed Test in Python\n",
        "alpha = 0.05\n",
        "p = 2*(1 - (norm.cdf(abs(zhat), 0, 1)))\n",
        "print('p-value is',p)\n",
        "print('At the significance level of', alpha)\n",
        "print('Shall we reject?:', p<alpha)"
      ]
    }
  ],
  "metadata": {
    "kernelspec": {
      "display_name": "Python 3.8.8 ('base')",
      "language": "python",
      "name": "python3"
    },
    "language_info": {
      "codemirror_mode": {
        "name": "ipython",
        "version": 3
      },
      "file_extension": ".py",
      "mimetype": "text/x-python",
      "name": "python",
      "nbconvert_exporter": "python",
      "pygments_lexer": "ipython3",
      "version": "3.8.8"
    },
    "orig_nbformat": 4,
    "vscode": {
      "interpreter": {
        "hash": "751109987126d14431861a64024ee812af31c0bd414715a4e9641c2836ac5451"
      }
    },
    "colab": {
      "provenance": []
    }
  },
  "nbformat": 4,
  "nbformat_minor": 0
}