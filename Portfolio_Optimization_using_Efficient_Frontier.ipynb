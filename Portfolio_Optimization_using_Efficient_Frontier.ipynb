{
  "cells": [
    {
      "cell_type": "markdown",
      "metadata": {
        "id": "2c0p5ZAX7fEm"
      },
      "source": [
        "This program attempts to optimise a user's portfolio using the efficient frontier"
      ]
    },
    {
      "cell_type": "markdown",
      "metadata": {
        "id": "CdoQXL5f722E"
      },
      "source": [
        "# Portfolio Optimisation\n",
        "**Definition** : The process of selecting the best best portfolio (Asset Distribution) out of a set of all portfolios being considered, according to some objective. The objectie typically maximises factors such as expected return, and minimses costs like financial risk.\n",
        "\n"
      ]
    },
    {
      "cell_type": "code",
      "execution_count": null,
      "metadata": {
        "id": "if5epV2ABznC"
      },
      "outputs": [],
      "source": [
        "!pip install pandas --upgrade"
      ]
    },
    {
      "cell_type": "code",
      "execution_count": null,
      "metadata": {
        "id": "EuKYJOu2FDv4"
      },
      "outputs": [],
      "source": [
        "!pip install pandas-datareader --upgrade"
      ]
    },
    {
      "cell_type": "code",
      "source": [
        "pip install yfinance"
      ],
      "metadata": {
        "id": "nd08NO5kk07O"
      },
      "execution_count": null,
      "outputs": []
    },
    {
      "cell_type": "code",
      "execution_count": 22,
      "metadata": {
        "id": "8id9q_pM8_an"
      },
      "outputs": [],
      "source": [
        "#Import libraries\n",
        "from pandas_datareader import data as pdr\n",
        "import pandas as pd\n",
        "import numpy as np\n",
        "import yfinance as yf\n",
        "yf.pdr_override()\n",
        "from datetime import datetime\n",
        "import matplotlib.pyplot as plt\n",
        "plt.style.use('fivethirtyeight')\n",
        "plt.rcParams['figure.figsize'] = (12.5, 8.5)\n",
        "from sklearn.preprocessing import StandardScaler"
      ]
    },
    {
      "cell_type": "code",
      "execution_count": 41,
      "metadata": {
        "colab": {
          "base_uri": "https://localhost:8080/"
        },
        "id": "UIhPJ7-I9ezV",
        "outputId": "d27f8635-9386-40d1-fc5a-9c84321dcdda"
      },
      "outputs": [
        {
          "output_type": "stream",
          "name": "stdout",
          "text": [
            "Enter the list size: 5\n",
            "\n",
            "\n",
            "Enter asset symbol:  0\n",
            "aapl\n",
            "Enter asset symbol:  1\n",
            "amzn\n",
            "Enter asset symbol:  2\n",
            "tsla\n",
            "Enter asset symbol:  3\n",
            "goog\n",
            "Enter asset symbol:  4\n",
            "meta\n",
            "The assets in the portfolio are  ['aapl', 'amzn', 'tsla', 'goog', 'meta']\n"
          ]
        }
      ],
      "source": [
        "#Input asset symbols into the portfolio\n",
        "assets = []\n",
        "n = int(input(\"Enter the list size: \"))\n",
        "\n",
        "print(\"\\n\")\n",
        "for i in range(0, n):\n",
        "  print(\"Enter asset symbol: \", i)\n",
        "  symbol = input()\n",
        "  assets.append(symbol)\n",
        "print(\"The assets in the portfolio are \", assets)"
      ]
    },
    {
      "cell_type": "code",
      "execution_count": 42,
      "metadata": {
        "colab": {
          "base_uri": "https://localhost:8080/"
        },
        "id": "_FtQh7tWCt-t",
        "outputId": "86f6341a-c733-4bed-e558-febf38f5ac9b"
      },
      "outputs": [
        {
          "output_type": "stream",
          "name": "stdout",
          "text": [
            "Total invested value of portfolio in dollars, $1000\n",
            "Enter the investment amount in dollars for aapl\n",
            "$200\n",
            "Enter the investment amount in dollars for amzn\n",
            "$200\n",
            "Enter the investment amount in dollars for tsla\n",
            "$200\n",
            "Enter the investment amount in dollars for goog\n",
            "$200\n",
            "Enter the investment amount in dollars for meta\n",
            "$200\n",
            "The weights in the portfolio are [0.2, 0.2, 0.2, 0.2, 0.2] respectively.\n"
          ]
        }
      ],
      "source": [
        "#Assign weights to the stocks\n",
        "portfolio_weights = []\n",
        "\n",
        "total_portfolio_value = float(input(\"Total invested value of portfolio in dollars, $\"))\n",
        "length = len(assets)\n",
        "for j in range(length):\n",
        "  print(\"Enter the investment amount in dollars for\", assets[j])\n",
        "  asset_value = float(input(\"$\"))\n",
        "  weighted_value = asset_value/total_portfolio_value\n",
        "  portfolio_weights.append(weighted_value)\n",
        "weights = np.array(portfolio_weights)\n",
        "print(\"The weights in the portfolio are\", portfolio_weights, \"respectively.\")"
      ]
    },
    {
      "cell_type": "code",
      "execution_count": 36,
      "metadata": {
        "colab": {
          "base_uri": "https://localhost:8080/"
        },
        "id": "mfbTVN6T9oRQ",
        "outputId": "43ef79aa-285e-4354-9cd4-3a813da780fc"
      },
      "outputs": [
        {
          "output_type": "stream",
          "name": "stdout",
          "text": [
            "Enter the transaction open in format (YYYY-MM-DD): 2020-01-01\n",
            "2020-01-01\n"
          ]
        }
      ],
      "source": [
        "#Get transaction open date\n",
        "startDate = input(\"Enter the transaction open in format (YYYY-MM-DD): \")\n",
        "print(startDate)"
      ]
    },
    {
      "cell_type": "code",
      "execution_count": 37,
      "metadata": {
        "colab": {
          "base_uri": "https://localhost:8080/"
        },
        "id": "9wGXnYzq-c-T",
        "outputId": "05c5b0f2-e074-4a18-f1b9-ed9e92fe4e27"
      },
      "outputs": [
        {
          "output_type": "stream",
          "name": "stdout",
          "text": [
            "2023-02-16\n"
          ]
        }
      ],
      "source": [
        "#Get assets' close date (ie. today's date)\n",
        "today = datetime.today().strftime('%Y-%m-%d')\n",
        "print(today)"
      ]
    },
    {
      "cell_type": "code",
      "execution_count": 43,
      "metadata": {
        "id": "nHkPfNli_MRs",
        "colab": {
          "base_uri": "https://localhost:8080/"
        },
        "outputId": "8e3658a9-72cc-4244-fc67-3b3a5cead948"
      },
      "outputs": [
        {
          "output_type": "stream",
          "name": "stdout",
          "text": [
            "[*********************100%***********************]  1 of 1 completed\n",
            "[*********************100%***********************]  1 of 1 completed\n",
            "[*********************100%***********************]  1 of 1 completed\n",
            "[*********************100%***********************]  1 of 1 completed\n",
            "[*********************100%***********************]  1 of 1 completed\n"
          ]
        }
      ],
      "source": [
        "# Create a dataframe to store the adjusted close price of the assets\n",
        "df = pd.DataFrame()\n",
        "\n",
        "#Store the adjusted close price into the dataframe\n",
        "for asset in assets:\n",
        "  df[asset] = pdr.get_data_yahoo(asset, start = startDate, end = today)['Adj Close']"
      ]
    },
    {
      "cell_type": "code",
      "execution_count": 44,
      "metadata": {
        "colab": {
          "base_uri": "https://localhost:8080/",
          "height": 455
        },
        "id": "z_8ciy6XI6r0",
        "outputId": "4a90ce88-45a5-40c1-ac32-03bd71bfa758"
      },
      "outputs": [
        {
          "output_type": "execute_result",
          "data": {
            "text/plain": [
              "                  aapl        amzn        tsla       goog        meta\n",
              "Date                                                                 \n",
              "2020-01-02   73.449379   94.900497   28.684000  68.368500  209.779999\n",
              "2020-01-03   72.735313   93.748497   29.534000  68.032997  208.669998\n",
              "2020-01-06   73.314888   95.143997   30.102667  69.710503  212.600006\n",
              "2020-01-07   72.970085   95.343002   31.270666  69.667000  213.059998\n",
              "2020-01-08   74.143890   94.598503   32.809334  70.216003  215.220001\n",
              "...                ...         ...         ...        ...         ...\n",
              "2023-02-09  150.639999   98.239998  207.320007  95.459999  177.919998\n",
              "2023-02-10  151.009995   97.610001  196.889999  94.860001  174.149994\n",
              "2023-02-13  153.850006   99.540001  194.639999  95.000000  179.429993\n",
              "2023-02-14  153.199997   99.699997  209.250000  94.949997  179.479996\n",
              "2023-02-15  155.330002  101.160004  214.240005  97.099998  177.160004\n",
              "\n",
              "[787 rows x 5 columns]"
            ],
            "text/html": [
              "\n",
              "  <div id=\"df-14e6db55-690e-4961-bc9e-aded989f005b\">\n",
              "    <div class=\"colab-df-container\">\n",
              "      <div>\n",
              "<style scoped>\n",
              "    .dataframe tbody tr th:only-of-type {\n",
              "        vertical-align: middle;\n",
              "    }\n",
              "\n",
              "    .dataframe tbody tr th {\n",
              "        vertical-align: top;\n",
              "    }\n",
              "\n",
              "    .dataframe thead th {\n",
              "        text-align: right;\n",
              "    }\n",
              "</style>\n",
              "<table border=\"1\" class=\"dataframe\">\n",
              "  <thead>\n",
              "    <tr style=\"text-align: right;\">\n",
              "      <th></th>\n",
              "      <th>aapl</th>\n",
              "      <th>amzn</th>\n",
              "      <th>tsla</th>\n",
              "      <th>goog</th>\n",
              "      <th>meta</th>\n",
              "    </tr>\n",
              "    <tr>\n",
              "      <th>Date</th>\n",
              "      <th></th>\n",
              "      <th></th>\n",
              "      <th></th>\n",
              "      <th></th>\n",
              "      <th></th>\n",
              "    </tr>\n",
              "  </thead>\n",
              "  <tbody>\n",
              "    <tr>\n",
              "      <th>2020-01-02</th>\n",
              "      <td>73.449379</td>\n",
              "      <td>94.900497</td>\n",
              "      <td>28.684000</td>\n",
              "      <td>68.368500</td>\n",
              "      <td>209.779999</td>\n",
              "    </tr>\n",
              "    <tr>\n",
              "      <th>2020-01-03</th>\n",
              "      <td>72.735313</td>\n",
              "      <td>93.748497</td>\n",
              "      <td>29.534000</td>\n",
              "      <td>68.032997</td>\n",
              "      <td>208.669998</td>\n",
              "    </tr>\n",
              "    <tr>\n",
              "      <th>2020-01-06</th>\n",
              "      <td>73.314888</td>\n",
              "      <td>95.143997</td>\n",
              "      <td>30.102667</td>\n",
              "      <td>69.710503</td>\n",
              "      <td>212.600006</td>\n",
              "    </tr>\n",
              "    <tr>\n",
              "      <th>2020-01-07</th>\n",
              "      <td>72.970085</td>\n",
              "      <td>95.343002</td>\n",
              "      <td>31.270666</td>\n",
              "      <td>69.667000</td>\n",
              "      <td>213.059998</td>\n",
              "    </tr>\n",
              "    <tr>\n",
              "      <th>2020-01-08</th>\n",
              "      <td>74.143890</td>\n",
              "      <td>94.598503</td>\n",
              "      <td>32.809334</td>\n",
              "      <td>70.216003</td>\n",
              "      <td>215.220001</td>\n",
              "    </tr>\n",
              "    <tr>\n",
              "      <th>...</th>\n",
              "      <td>...</td>\n",
              "      <td>...</td>\n",
              "      <td>...</td>\n",
              "      <td>...</td>\n",
              "      <td>...</td>\n",
              "    </tr>\n",
              "    <tr>\n",
              "      <th>2023-02-09</th>\n",
              "      <td>150.639999</td>\n",
              "      <td>98.239998</td>\n",
              "      <td>207.320007</td>\n",
              "      <td>95.459999</td>\n",
              "      <td>177.919998</td>\n",
              "    </tr>\n",
              "    <tr>\n",
              "      <th>2023-02-10</th>\n",
              "      <td>151.009995</td>\n",
              "      <td>97.610001</td>\n",
              "      <td>196.889999</td>\n",
              "      <td>94.860001</td>\n",
              "      <td>174.149994</td>\n",
              "    </tr>\n",
              "    <tr>\n",
              "      <th>2023-02-13</th>\n",
              "      <td>153.850006</td>\n",
              "      <td>99.540001</td>\n",
              "      <td>194.639999</td>\n",
              "      <td>95.000000</td>\n",
              "      <td>179.429993</td>\n",
              "    </tr>\n",
              "    <tr>\n",
              "      <th>2023-02-14</th>\n",
              "      <td>153.199997</td>\n",
              "      <td>99.699997</td>\n",
              "      <td>209.250000</td>\n",
              "      <td>94.949997</td>\n",
              "      <td>179.479996</td>\n",
              "    </tr>\n",
              "    <tr>\n",
              "      <th>2023-02-15</th>\n",
              "      <td>155.330002</td>\n",
              "      <td>101.160004</td>\n",
              "      <td>214.240005</td>\n",
              "      <td>97.099998</td>\n",
              "      <td>177.160004</td>\n",
              "    </tr>\n",
              "  </tbody>\n",
              "</table>\n",
              "<p>787 rows × 5 columns</p>\n",
              "</div>\n",
              "      <button class=\"colab-df-convert\" onclick=\"convertToInteractive('df-14e6db55-690e-4961-bc9e-aded989f005b')\"\n",
              "              title=\"Convert this dataframe to an interactive table.\"\n",
              "              style=\"display:none;\">\n",
              "        \n",
              "  <svg xmlns=\"http://www.w3.org/2000/svg\" height=\"24px\"viewBox=\"0 0 24 24\"\n",
              "       width=\"24px\">\n",
              "    <path d=\"M0 0h24v24H0V0z\" fill=\"none\"/>\n",
              "    <path d=\"M18.56 5.44l.94 2.06.94-2.06 2.06-.94-2.06-.94-.94-2.06-.94 2.06-2.06.94zm-11 1L8.5 8.5l.94-2.06 2.06-.94-2.06-.94L8.5 2.5l-.94 2.06-2.06.94zm10 10l.94 2.06.94-2.06 2.06-.94-2.06-.94-.94-2.06-.94 2.06-2.06.94z\"/><path d=\"M17.41 7.96l-1.37-1.37c-.4-.4-.92-.59-1.43-.59-.52 0-1.04.2-1.43.59L10.3 9.45l-7.72 7.72c-.78.78-.78 2.05 0 2.83L4 21.41c.39.39.9.59 1.41.59.51 0 1.02-.2 1.41-.59l7.78-7.78 2.81-2.81c.8-.78.8-2.07 0-2.86zM5.41 20L4 18.59l7.72-7.72 1.47 1.35L5.41 20z\"/>\n",
              "  </svg>\n",
              "      </button>\n",
              "      \n",
              "  <style>\n",
              "    .colab-df-container {\n",
              "      display:flex;\n",
              "      flex-wrap:wrap;\n",
              "      gap: 12px;\n",
              "    }\n",
              "\n",
              "    .colab-df-convert {\n",
              "      background-color: #E8F0FE;\n",
              "      border: none;\n",
              "      border-radius: 50%;\n",
              "      cursor: pointer;\n",
              "      display: none;\n",
              "      fill: #1967D2;\n",
              "      height: 32px;\n",
              "      padding: 0 0 0 0;\n",
              "      width: 32px;\n",
              "    }\n",
              "\n",
              "    .colab-df-convert:hover {\n",
              "      background-color: #E2EBFA;\n",
              "      box-shadow: 0px 1px 2px rgba(60, 64, 67, 0.3), 0px 1px 3px 1px rgba(60, 64, 67, 0.15);\n",
              "      fill: #174EA6;\n",
              "    }\n",
              "\n",
              "    [theme=dark] .colab-df-convert {\n",
              "      background-color: #3B4455;\n",
              "      fill: #D2E3FC;\n",
              "    }\n",
              "\n",
              "    [theme=dark] .colab-df-convert:hover {\n",
              "      background-color: #434B5C;\n",
              "      box-shadow: 0px 1px 3px 1px rgba(0, 0, 0, 0.15);\n",
              "      filter: drop-shadow(0px 1px 2px rgba(0, 0, 0, 0.3));\n",
              "      fill: #FFFFFF;\n",
              "    }\n",
              "  </style>\n",
              "\n",
              "      <script>\n",
              "        const buttonEl =\n",
              "          document.querySelector('#df-14e6db55-690e-4961-bc9e-aded989f005b button.colab-df-convert');\n",
              "        buttonEl.style.display =\n",
              "          google.colab.kernel.accessAllowed ? 'block' : 'none';\n",
              "\n",
              "        async function convertToInteractive(key) {\n",
              "          const element = document.querySelector('#df-14e6db55-690e-4961-bc9e-aded989f005b');\n",
              "          const dataTable =\n",
              "            await google.colab.kernel.invokeFunction('convertToInteractive',\n",
              "                                                     [key], {});\n",
              "          if (!dataTable) return;\n",
              "\n",
              "          const docLinkHtml = 'Like what you see? Visit the ' +\n",
              "            '<a target=\"_blank\" href=https://colab.research.google.com/notebooks/data_table.ipynb>data table notebook</a>'\n",
              "            + ' to learn more about interactive tables.';\n",
              "          element.innerHTML = '';\n",
              "          dataTable['output_type'] = 'display_data';\n",
              "          await google.colab.output.renderOutput(dataTable, element);\n",
              "          const docLink = document.createElement('div');\n",
              "          docLink.innerHTML = docLinkHtml;\n",
              "          element.appendChild(docLink);\n",
              "        }\n",
              "      </script>\n",
              "    </div>\n",
              "  </div>\n",
              "  "
            ]
          },
          "metadata": {},
          "execution_count": 44
        }
      ],
      "source": [
        "#visualise dataframe\n",
        "df"
      ]
    },
    {
      "cell_type": "code",
      "execution_count": 46,
      "metadata": {
        "colab": {
          "base_uri": "https://localhost:8080/",
          "height": 587
        },
        "id": "2sTvJhNPK-gX",
        "outputId": "8bb6649c-00bc-4be5-dad2-6b0877369e4a"
      },
      "outputs": [
        {
          "output_type": "display_data",
          "data": {
            "text/plain": [
              "<Figure size 900x612 with 1 Axes>"
            ],
            "image/png": "[encoded data removed]"
          },
          "metadata": {}
        }
      ],
      "source": [
        "# Visually show the portfolio\n",
        "title = 'Portfolio Adj Close Price History'\n",
        "\n",
        "my_assets = df\n",
        "\n",
        "# Create a graph\n",
        "for c in my_assets.columns.values:\n",
        "  plt.plot(my_assets[c], linewidth=2, label = c)\n",
        "\n",
        "plt.title(title)\n",
        "plt.xlabel('Adj Price', fontsize = 18)\n",
        "plt.legend(my_assets.columns.values, loc = 'upper left')\n",
        "plt.show()"
      ]
    },
    {
      "cell_type": "code",
      "execution_count": 47,
      "metadata": {
        "colab": {
          "base_uri": "https://localhost:8080/",
          "height": 455
        },
        "id": "WKvPqZEFNSqt",
        "outputId": "364ba544-a438-4cb0-e9fd-a516da574c67"
      },
      "outputs": [
        {
          "output_type": "execute_result",
          "data": {
            "text/plain": [
              "                aapl      amzn      tsla      goog      meta\n",
              "Date                                                        \n",
              "2020-01-02       NaN       NaN       NaN       NaN       NaN\n",
              "2020-01-03 -0.009722 -0.012139  0.029633 -0.004907 -0.005291\n",
              "2020-01-06  0.007968  0.014886  0.019255  0.024657  0.018834\n",
              "2020-01-07 -0.004703  0.002092  0.038801 -0.000624  0.002164\n",
              "2020-01-08  0.016086 -0.007809  0.049205  0.007880  0.010138\n",
              "...              ...       ...       ...       ...       ...\n",
              "2023-02-09 -0.006912 -0.018091  0.029957 -0.045400 -0.030039\n",
              "2023-02-10  0.002456 -0.006413 -0.050309 -0.006285 -0.021189\n",
              "2023-02-13  0.018807  0.019773 -0.011428  0.001476  0.030319\n",
              "2023-02-14 -0.004225  0.001607  0.075062 -0.000526  0.000279\n",
              "2023-02-15  0.013903  0.014644  0.023847  0.022644 -0.012926\n",
              "\n",
              "[787 rows x 5 columns]"
            ],
            "text/html": [
              "\n",
              "  <div id=\"df-de047bdb-1a5e-49de-bd00-0d8d54a3b225\">\n",
              "    <div class=\"colab-df-container\">\n",
              "      <div>\n",
              "<style scoped>\n",
              "    .dataframe tbody tr th:only-of-type {\n",
              "        vertical-align: middle;\n",
              "    }\n",
              "\n",
              "    .dataframe tbody tr th {\n",
              "        vertical-align: top;\n",
              "    }\n",
              "\n",
              "    .dataframe thead th {\n",
              "        text-align: right;\n",
              "    }\n",
              "</style>\n",
              "<table border=\"1\" class=\"dataframe\">\n",
              "  <thead>\n",
              "    <tr style=\"text-align: right;\">\n",
              "      <th></th>\n",
              "      <th>aapl</th>\n",
              "      <th>amzn</th>\n",
              "      <th>tsla</th>\n",
              "      <th>goog</th>\n",
              "      <th>meta</th>\n",
              "    </tr>\n",
              "    <tr>\n",
              "      <th>Date</th>\n",
              "      <th></th>\n",
              "      <th></th>\n",
              "      <th></th>\n",
              "      <th></th>\n",
              "      <th></th>\n",
              "    </tr>\n",
              "  </thead>\n",
              "  <tbody>\n",
              "    <tr>\n",
              "      <th>2020-01-02</th>\n",
              "      <td>NaN</td>\n",
              "      <td>NaN</td>\n",
              "      <td>NaN</td>\n",
              "      <td>NaN</td>\n",
              "      <td>NaN</td>\n",
              "    </tr>\n",
              "    <tr>\n",
              "      <th>2020-01-03</th>\n",
              "      <td>-0.009722</td>\n",
              "      <td>-0.012139</td>\n",
              "      <td>0.029633</td>\n",
              "      <td>-0.004907</td>\n",
              "      <td>-0.005291</td>\n",
              "    </tr>\n",
              "    <tr>\n",
              "      <th>2020-01-06</th>\n",
              "      <td>0.007968</td>\n",
              "      <td>0.014886</td>\n",
              "      <td>0.019255</td>\n",
              "      <td>0.024657</td>\n",
              "      <td>0.018834</td>\n",
              "    </tr>\n",
              "    <tr>\n",
              "      <th>2020-01-07</th>\n",
              "      <td>-0.004703</td>\n",
              "      <td>0.002092</td>\n",
              "      <td>0.038801</td>\n",
              "      <td>-0.000624</td>\n",
              "      <td>0.002164</td>\n",
              "    </tr>\n",
              "    <tr>\n",
              "      <th>2020-01-08</th>\n",
              "      <td>0.016086</td>\n",
              "      <td>-0.007809</td>\n",
              "      <td>0.049205</td>\n",
              "      <td>0.007880</td>\n",
              "      <td>0.010138</td>\n",
              "    </tr>\n",
              "    <tr>\n",
              "      <th>...</th>\n",
              "      <td>...</td>\n",
              "      <td>...</td>\n",
              "      <td>...</td>\n",
              "      <td>...</td>\n",
              "      <td>...</td>\n",
              "    </tr>\n",
              "    <tr>\n",
              "      <th>2023-02-09</th>\n",
              "      <td>-0.006912</td>\n",
              "      <td>-0.018091</td>\n",
              "      <td>0.029957</td>\n",
              "      <td>-0.045400</td>\n",
              "      <td>-0.030039</td>\n",
              "    </tr>\n",
              "    <tr>\n",
              "      <th>2023-02-10</th>\n",
              "      <td>0.002456</td>\n",
              "      <td>-0.006413</td>\n",
              "      <td>-0.050309</td>\n",
              "      <td>-0.006285</td>\n",
              "      <td>-0.021189</td>\n",
              "    </tr>\n",
              "    <tr>\n",
              "      <th>2023-02-13</th>\n",
              "      <td>0.018807</td>\n",
              "      <td>0.019773</td>\n",
              "      <td>-0.011428</td>\n",
              "      <td>0.001476</td>\n",
              "      <td>0.030319</td>\n",
              "    </tr>\n",
              "    <tr>\n",
              "      <th>2023-02-14</th>\n",
              "      <td>-0.004225</td>\n",
              "      <td>0.001607</td>\n",
              "      <td>0.075062</td>\n",
              "      <td>-0.000526</td>\n",
              "      <td>0.000279</td>\n",
              "    </tr>\n",
              "    <tr>\n",
              "      <th>2023-02-15</th>\n",
              "      <td>0.013903</td>\n",
              "      <td>0.014644</td>\n",
              "      <td>0.023847</td>\n",
              "      <td>0.022644</td>\n",
              "      <td>-0.012926</td>\n",
              "    </tr>\n",
              "  </tbody>\n",
              "</table>\n",
              "<p>787 rows × 5 columns</p>\n",
              "</div>\n",
              "      <button class=\"colab-df-convert\" onclick=\"convertToInteractive('df-de047bdb-1a5e-49de-bd00-0d8d54a3b225')\"\n",
              "              title=\"Convert this dataframe to an interactive table.\"\n",
              "              style=\"display:none;\">\n",
              "        \n",
              "  <svg xmlns=\"http://www.w3.org/2000/svg\" height=\"24px\"viewBox=\"0 0 24 24\"\n",
              "       width=\"24px\">\n",
              "    <path d=\"M0 0h24v24H0V0z\" fill=\"none\"/>\n",
              "    <path d=\"M18.56 5.44l.94 2.06.94-2.06 2.06-.94-2.06-.94-.94-2.06-.94 2.06-2.06.94zm-11 1L8.5 8.5l.94-2.06 2.06-.94-2.06-.94L8.5 2.5l-.94 2.06-2.06.94zm10 10l.94 2.06.94-2.06 2.06-.94-2.06-.94-.94-2.06-.94 2.06-2.06.94z\"/><path d=\"M17.41 7.96l-1.37-1.37c-.4-.4-.92-.59-1.43-.59-.52 0-1.04.2-1.43.59L10.3 9.45l-7.72 7.72c-.78.78-.78 2.05 0 2.83L4 21.41c.39.39.9.59 1.41.59.51 0 1.02-.2 1.41-.59l7.78-7.78 2.81-2.81c.8-.78.8-2.07 0-2.86zM5.41 20L4 18.59l7.72-7.72 1.47 1.35L5.41 20z\"/>\n",
              "  </svg>\n",
              "      </button>\n",
              "      \n",
              "  <style>\n",
              "    .colab-df-container {\n",
              "      display:flex;\n",
              "      flex-wrap:wrap;\n",
              "      gap: 12px;\n",
              "    }\n",
              "\n",
              "    .colab-df-convert {\n",
              "      background-color: #E8F0FE;\n",
              "      border: none;\n",
              "      border-radius: 50%;\n",
              "      cursor: pointer;\n",
              "      display: none;\n",
              "      fill: #1967D2;\n",
              "      height: 32px;\n",
              "      padding: 0 0 0 0;\n",
              "      width: 32px;\n",
              "    }\n",
              "\n",
              "    .colab-df-convert:hover {\n",
              "      background-color: #E2EBFA;\n",
              "      box-shadow: 0px 1px 2px rgba(60, 64, 67, 0.3), 0px 1px 3px 1px rgba(60, 64, 67, 0.15);\n",
              "      fill: #174EA6;\n",
              "    }\n",
              "\n",
              "    [theme=dark] .colab-df-convert {\n",
              "      background-color: #3B4455;\n",
              "      fill: #D2E3FC;\n",
              "    }\n",
              "\n",
              "    [theme=dark] .colab-df-convert:hover {\n",
              "      background-color: #434B5C;\n",
              "      box-shadow: 0px 1px 3px 1px rgba(0, 0, 0, 0.15);\n",
              "      filter: drop-shadow(0px 1px 2px rgba(0, 0, 0, 0.3));\n",
              "      fill: #FFFFFF;\n",
              "    }\n",
              "  </style>\n",
              "\n",
              "      <script>\n",
              "        const buttonEl =\n",
              "          document.querySelector('#df-de047bdb-1a5e-49de-bd00-0d8d54a3b225 button.colab-df-convert');\n",
              "        buttonEl.style.display =\n",
              "          google.colab.kernel.accessAllowed ? 'block' : 'none';\n",
              "\n",
              "        async function convertToInteractive(key) {\n",
              "          const element = document.querySelector('#df-de047bdb-1a5e-49de-bd00-0d8d54a3b225');\n",
              "          const dataTable =\n",
              "            await google.colab.kernel.invokeFunction('convertToInteractive',\n",
              "                                                     [key], {});\n",
              "          if (!dataTable) return;\n",
              "\n",
              "          const docLinkHtml = 'Like what you see? Visit the ' +\n",
              "            '<a target=\"_blank\" href=https://colab.research.google.com/notebooks/data_table.ipynb>data table notebook</a>'\n",
              "            + ' to learn more about interactive tables.';\n",
              "          element.innerHTML = '';\n",
              "          dataTable['output_type'] = 'display_data';\n",
              "          await google.colab.output.renderOutput(dataTable, element);\n",
              "          const docLink = document.createElement('div');\n",
              "          docLink.innerHTML = docLinkHtml;\n",
              "          element.appendChild(docLink);\n",
              "        }\n",
              "      </script>\n",
              "    </div>\n",
              "  </div>\n",
              "  "
            ]
          },
          "metadata": {},
          "execution_count": 47
        }
      ],
      "source": [
        "#Show the simple daily returns\n",
        "returns = df.pct_change()\n",
        "returns"
      ]
    },
    {
      "cell_type": "markdown",
      "metadata": {
        "id": "ngfhWfrWYr6V"
      },
      "source": [
        "# Covariance Matrix\n",
        "a square matrix giving the covariance between each pair of elements of a given random vector\n",
        "\n",
        "In finance, a covariance matrix is a tool used to measure the relationship between the movement of two asset prices and shows the measure of correlation between them.\n",
        "\n",
        "*the left-to-right diagonal values are the variances of the assets*"
      ]
    },
    {
      "cell_type": "code",
      "execution_count": 48,
      "metadata": {
        "colab": {
          "base_uri": "https://localhost:8080/",
          "height": 206
        },
        "id": "No41MFk2N4Tp",
        "outputId": "b1f63bd9-85fd-4f6f-91a0-c2037d770ff8"
      },
      "outputs": [
        {
          "output_type": "execute_result",
          "data": {
            "text/plain": [
              "          aapl      amzn      tsla      goog      meta\n",
              "aapl  0.133870  0.093862  0.137869  0.091558  0.112724\n",
              "amzn  0.093862  0.155348  0.132875  0.094279  0.121695\n",
              "tsla  0.137869  0.132875  0.526050  0.111624  0.130345\n",
              "goog  0.091558  0.094279  0.111624  0.121960  0.122350\n",
              "meta  0.112724  0.121695  0.130345  0.122350  0.250618"
            ],
            "text/html": [
              "\n",
              "  <div id=\"df-06ce32dd-cfed-4897-a9b9-aad2bbf8903c\">\n",
              "    <div class=\"colab-df-container\">\n",
              "      <div>\n",
              "<style scoped>\n",
              "    .dataframe tbody tr th:only-of-type {\n",
              "        vertical-align: middle;\n",
              "    }\n",
              "\n",
              "    .dataframe tbody tr th {\n",
              "        vertical-align: top;\n",
              "    }\n",
              "\n",
              "    .dataframe thead th {\n",
              "        text-align: right;\n",
              "    }\n",
              "</style>\n",
              "<table border=\"1\" class=\"dataframe\">\n",
              "  <thead>\n",
              "    <tr style=\"text-align: right;\">\n",
              "      <th></th>\n",
              "      <th>aapl</th>\n",
              "      <th>amzn</th>\n",
              "      <th>tsla</th>\n",
              "      <th>goog</th>\n",
              "      <th>meta</th>\n",
              "    </tr>\n",
              "  </thead>\n",
              "  <tbody>\n",
              "    <tr>\n",
              "      <th>aapl</th>\n",
              "      <td>0.133870</td>\n",
              "      <td>0.093862</td>\n",
              "      <td>0.137869</td>\n",
              "      <td>0.091558</td>\n",
              "      <td>0.112724</td>\n",
              "    </tr>\n",
              "    <tr>\n",
              "      <th>amzn</th>\n",
              "      <td>0.093862</td>\n",
              "      <td>0.155348</td>\n",
              "      <td>0.132875</td>\n",
              "      <td>0.094279</td>\n",
              "      <td>0.121695</td>\n",
              "    </tr>\n",
              "    <tr>\n",
              "      <th>tsla</th>\n",
              "      <td>0.137869</td>\n",
              "      <td>0.132875</td>\n",
              "      <td>0.526050</td>\n",
              "      <td>0.111624</td>\n",
              "      <td>0.130345</td>\n",
              "    </tr>\n",
              "    <tr>\n",
              "      <th>goog</th>\n",
              "      <td>0.091558</td>\n",
              "      <td>0.094279</td>\n",
              "      <td>0.111624</td>\n",
              "      <td>0.121960</td>\n",
              "      <td>0.122350</td>\n",
              "    </tr>\n",
              "    <tr>\n",
              "      <th>meta</th>\n",
              "      <td>0.112724</td>\n",
              "      <td>0.121695</td>\n",
              "      <td>0.130345</td>\n",
              "      <td>0.122350</td>\n",
              "      <td>0.250618</td>\n",
              "    </tr>\n",
              "  </tbody>\n",
              "</table>\n",
              "</div>\n",
              "      <button class=\"colab-df-convert\" onclick=\"convertToInteractive('df-06ce32dd-cfed-4897-a9b9-aad2bbf8903c')\"\n",
              "              title=\"Convert this dataframe to an interactive table.\"\n",
              "              style=\"display:none;\">\n",
              "        \n",
              "  <svg xmlns=\"http://www.w3.org/2000/svg\" height=\"24px\"viewBox=\"0 0 24 24\"\n",
              "       width=\"24px\">\n",
              "    <path d=\"M0 0h24v24H0V0z\" fill=\"none\"/>\n",
              "    <path d=\"M18.56 5.44l.94 2.06.94-2.06 2.06-.94-2.06-.94-.94-2.06-.94 2.06-2.06.94zm-11 1L8.5 8.5l.94-2.06 2.06-.94-2.06-.94L8.5 2.5l-.94 2.06-2.06.94zm10 10l.94 2.06.94-2.06 2.06-.94-2.06-.94-.94-2.06-.94 2.06-2.06.94z\"/><path d=\"M17.41 7.96l-1.37-1.37c-.4-.4-.92-.59-1.43-.59-.52 0-1.04.2-1.43.59L10.3 9.45l-7.72 7.72c-.78.78-.78 2.05 0 2.83L4 21.41c.39.39.9.59 1.41.59.51 0 1.02-.2 1.41-.59l7.78-7.78 2.81-2.81c.8-.78.8-2.07 0-2.86zM5.41 20L4 18.59l7.72-7.72 1.47 1.35L5.41 20z\"/>\n",
              "  </svg>\n",
              "      </button>\n",
              "      \n",
              "  <style>\n",
              "    .colab-df-container {\n",
              "      display:flex;\n",
              "      flex-wrap:wrap;\n",
              "      gap: 12px;\n",
              "    }\n",
              "\n",
              "    .colab-df-convert {\n",
              "      background-color: #E8F0FE;\n",
              "      border: none;\n",
              "      border-radius: 50%;\n",
              "      cursor: pointer;\n",
              "      display: none;\n",
              "      fill: #1967D2;\n",
              "      height: 32px;\n",
              "      padding: 0 0 0 0;\n",
              "      width: 32px;\n",
              "    }\n",
              "\n",
              "    .colab-df-convert:hover {\n",
              "      background-color: #E2EBFA;\n",
              "      box-shadow: 0px 1px 2px rgba(60, 64, 67, 0.3), 0px 1px 3px 1px rgba(60, 64, 67, 0.15);\n",
              "      fill: #174EA6;\n",
              "    }\n",
              "\n",
              "    [theme=dark] .colab-df-convert {\n",
              "      background-color: #3B4455;\n",
              "      fill: #D2E3FC;\n",
              "    }\n",
              "\n",
              "    [theme=dark] .colab-df-convert:hover {\n",
              "      background-color: #434B5C;\n",
              "      box-shadow: 0px 1px 3px 1px rgba(0, 0, 0, 0.15);\n",
              "      filter: drop-shadow(0px 1px 2px rgba(0, 0, 0, 0.3));\n",
              "      fill: #FFFFFF;\n",
              "    }\n",
              "  </style>\n",
              "\n",
              "      <script>\n",
              "        const buttonEl =\n",
              "          document.querySelector('#df-06ce32dd-cfed-4897-a9b9-aad2bbf8903c button.colab-df-convert');\n",
              "        buttonEl.style.display =\n",
              "          google.colab.kernel.accessAllowed ? 'block' : 'none';\n",
              "\n",
              "        async function convertToInteractive(key) {\n",
              "          const element = document.querySelector('#df-06ce32dd-cfed-4897-a9b9-aad2bbf8903c');\n",
              "          const dataTable =\n",
              "            await google.colab.kernel.invokeFunction('convertToInteractive',\n",
              "                                                     [key], {});\n",
              "          if (!dataTable) return;\n",
              "\n",
              "          const docLinkHtml = 'Like what you see? Visit the ' +\n",
              "            '<a target=\"_blank\" href=https://colab.research.google.com/notebooks/data_table.ipynb>data table notebook</a>'\n",
              "            + ' to learn more about interactive tables.';\n",
              "          element.innerHTML = '';\n",
              "          dataTable['output_type'] = 'display_data';\n",
              "          await google.colab.output.renderOutput(dataTable, element);\n",
              "          const docLink = document.createElement('div');\n",
              "          docLink.innerHTML = docLinkHtml;\n",
              "          element.appendChild(docLink);\n",
              "        }\n",
              "      </script>\n",
              "    </div>\n",
              "  </div>\n",
              "  "
            ]
          },
          "metadata": {},
          "execution_count": 48
        }
      ],
      "source": [
        "#Annualised covariance matrix\n",
        "cma = returns.cov() * 252\n",
        "cma"
      ]
    },
    {
      "cell_type": "markdown",
      "metadata": {
        "id": "e-5DjV6ZZsrY"
      },
      "source": [
        "# Variance\n",
        "is a measurement of the spread between numbers in a data set.\n",
        "\n",
        "Investors use variance to see how much risk an investment carries and whether it will be profitable."
      ]
    },
    {
      "cell_type": "code",
      "execution_count": 49,
      "metadata": {
        "colab": {
          "base_uri": "https://localhost:8080/"
        },
        "id": "zE4_y6ETPlsr",
        "outputId": "b5b54fa2-c45d-4af9-a04c-32b2b1445ace"
      },
      "outputs": [
        {
          "output_type": "execute_result",
          "data": {
            "text/plain": [
              "0.13944835804073274"
            ]
          },
          "metadata": {},
          "execution_count": 49
        }
      ],
      "source": [
        "# Portfolio variance annual\n",
        "pvarA = np.dot(weights.T, np.dot(cma, weights))\n",
        "pvarA"
      ]
    },
    {
      "cell_type": "markdown",
      "metadata": {
        "id": "zShixkJdaNf9"
      },
      "source": [
        "# Volatility\n",
        "is the degree of variation of a trading price series over time."
      ]
    },
    {
      "cell_type": "code",
      "execution_count": 50,
      "metadata": {
        "colab": {
          "base_uri": "https://localhost:8080/"
        },
        "id": "qvA2DT7lRbkU",
        "outputId": "4e4a840d-a31a-4fd6-e146-54e26ccddad5"
      },
      "outputs": [
        {
          "output_type": "execute_result",
          "data": {
            "text/plain": [
              "0.373427848507222"
            ]
          },
          "metadata": {},
          "execution_count": 50
        }
      ],
      "source": [
        "# Portfolio Volatility / Standard Deviation\n",
        "pvolA = np.sqrt(pvarA)\n",
        "pvolA"
      ]
    },
    {
      "cell_type": "code",
      "execution_count": 51,
      "metadata": {
        "colab": {
          "base_uri": "https://localhost:8080/"
        },
        "id": "he5emPUGR5UZ",
        "outputId": "29445ba9-7d44-48ad-bfba-c9d424ad73c8"
      },
      "outputs": [
        {
          "output_type": "execute_result",
          "data": {
            "text/plain": [
              "0.3121373842110549"
            ]
          },
          "metadata": {},
          "execution_count": 51
        }
      ],
      "source": [
        "# Annual Portfolio Return (Portfolio Simple Annual Return)\n",
        "pSARA = np.sum(returns.mean() * weights) * 252\n",
        "pSARA"
      ]
    },
    {
      "cell_type": "code",
      "execution_count": 52,
      "metadata": {
        "colab": {
          "base_uri": "https://localhost:8080/"
        },
        "id": "miFicaKfSZA-",
        "outputId": "bfc1dbac-cc4e-4d26-ba41-56a715e9f7aa"
      },
      "outputs": [
        {
          "output_type": "stream",
          "name": "stdout",
          "text": [
            "The Estimated Expected Annual Return for your portfolio is 31.0%\n",
            "The Estimated Annual Volatity / Risk for your portfolio is 37.0%\n",
            "The Estimated Annual Variance for your portfolio is 14.000000000000002%\n"
          ]
        }
      ],
      "source": [
        "# Exected Annual Return, Volatility (risk), and Variance\n",
        "percent_varA = str(round(pvarA, 2) * 100) + '%'\n",
        "percent_volA = str(round(pvolA, 2) * 100) + \"%\"\n",
        "percent_retA = str(round(pSARA, 2) * 100) + '%'\n",
        "\n",
        "print('The Estimated Expected Annual Return for your portfolio is', percent_retA)\n",
        "print('The Estimated Annual Volatity / Risk for your portfolio is', percent_volA)\n",
        "print('The Estimated Annual Variance for your portfolio is', percent_varA)"
      ]
    },
    {
      "cell_type": "code",
      "execution_count": null,
      "metadata": {
        "id": "1hI-v_gQVoY2"
      },
      "outputs": [],
      "source": [
        "!pip install PyPortfolioOpt"
      ]
    },
    {
      "cell_type": "code",
      "execution_count": 54,
      "metadata": {
        "id": "SdzNWRKAV3DR"
      },
      "outputs": [],
      "source": [
        "from pypfopt.efficient_frontier import EfficientFrontier\n",
        "from pypfopt import risk_models\n",
        "from pypfopt import expected_returns"
      ]
    },
    {
      "cell_type": "code",
      "execution_count": 55,
      "metadata": {
        "id": "BH4gmmM1Wb3U"
      },
      "outputs": [],
      "source": [
        "# Portfolio Optimisation\n",
        "\n",
        "# Expected Returns and Annualised Sample Covariance Matrix of Asset Returns\n",
        "mu = expected_returns.mean_historical_return(df)\n",
        "S = risk_models.sample_cov(df)"
      ]
    },
    {
      "cell_type": "markdown",
      "metadata": {
        "id": "N16cnhzFXqce"
      },
      "source": [
        "# Sharpe Ratio\n",
        "*Developed by Nobel William F. Sharpe*\n",
        "Used to help investors understand the return of an investment compared to its risk. The ratio is the **average return earned in excess to the risk-free rate per unit of volatility or total risk**."
      ]
    },
    {
      "cell_type": "code",
      "execution_count": 56,
      "metadata": {
        "colab": {
          "base_uri": "https://localhost:8080/"
        },
        "id": "-JHXF7OMYXok",
        "outputId": "4f2f1f64-984a-42b5-a2f9-644741d4866d"
      },
      "outputs": [
        {
          "output_type": "stream",
          "name": "stdout",
          "text": [
            "OrderedDict([('aapl', 0.10833), ('amzn', 0.0), ('tsla', 0.89167), ('goog', 0.0), ('meta', 0.0)])\n",
            "Expected annual return: 83.7%\n",
            "Annual volatility: 66.8%\n",
            "Sharpe Ratio: 1.22\n"
          ]
        },
        {
          "output_type": "execute_result",
          "data": {
            "text/plain": [
              "(0.8366799599181034, 0.6681709769571385, 1.2222619480380266)"
            ]
          },
          "metadata": {},
          "execution_count": 56
        }
      ],
      "source": [
        "# Optimise for maximal sharpe ratio\n",
        "ef = EfficientFrontier(mu, S)\n",
        "weights = ef.max_sharpe()\n",
        "cleaned_weights = ef.clean_weights()\n",
        "print(cleaned_weights)\n",
        "ef.portfolio_performance(verbose = True)"
      ]
    }
  ],
  "metadata": {
    "colab": {
      "provenance": []
    },
    "kernelspec": {
      "display_name": "Python 3",
      "name": "python3"
    },
    "language_info": {
      "name": "python"
    }
  },
  "nbformat": 4,
  "nbformat_minor": 0
}